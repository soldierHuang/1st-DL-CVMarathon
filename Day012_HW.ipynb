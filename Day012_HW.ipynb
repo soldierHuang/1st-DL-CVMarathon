{
  "nbformat": 4,
  "nbformat_minor": 0,
  "metadata": {
    "colab": {
      "name": "Day12_Strides and Padding_HW.ipynb",
      "provenance": [],
      "toc_visible": true
    },
    "kernelspec": {
      "display_name": "Python 3",
      "language": "python",
      "name": "python3"
    },
    "language_info": {
      "codemirror_mode": {
        "name": "ipython",
        "version": 3
      },
      "file_extension": ".py",
      "mimetype": "text/x-python",
      "name": "python",
      "nbconvert_exporter": "python",
      "pygments_lexer": "ipython3",
      "version": "3.6.7"
    }
  },
  "cells": [
    {
      "cell_type": "markdown",
      "metadata": {
        "colab_type": "text",
        "id": "0BBfdBwkyTiQ"
      },
      "source": [
        "## 『作業內容』\n",
        "####   依照指示，透過調整Padding、Strides參數控制輸出Feature map大小\n"
      ]
    },
    {
      "cell_type": "markdown",
      "metadata": {
        "colab_type": "text",
        "id": "7CtbcEb4yTiT"
      },
      "source": [
        "## 『目標』\n",
        "####   了解輸出feature map尺寸變化原理"
      ]
    },
    {
      "cell_type": "code",
      "metadata": {
        "id": "FFcntLau4FNx",
        "colab_type": "code",
        "colab": {
          "base_uri": "https://localhost:8080/",
          "height": 80
        },
        "outputId": "df1edf10-89c6-413e-f1e3-86d1b21242e1"
      },
      "source": [
        "from keras.models import Sequential\n",
        "from keras.layers import Convolution2D\n",
        "from keras.layers import Input, Dense\n",
        "from keras.models import Model"
      ],
      "execution_count": 1,
      "outputs": [
        {
          "output_type": "stream",
          "text": [
            "Using TensorFlow backend.\n"
          ],
          "name": "stderr"
        },
        {
          "output_type": "display_data",
          "data": {
            "text/html": [
              "<p style=\"color: red;\">\n",
              "The default version of TensorFlow in Colab will soon switch to TensorFlow 2.x.<br>\n",
              "We recommend you <a href=\"https://www.tensorflow.org/guide/migrate\" target=\"_blank\">upgrade</a> now \n",
              "or ensure your notebook will continue to use TensorFlow 1.x via the <code>%tensorflow_version 1.x</code> magic:\n",
              "<a href=\"https://colab.research.google.com/notebooks/tensorflow_version.ipynb\" target=\"_blank\">more info</a>.</p>\n"
            ],
            "text/plain": [
              "<IPython.core.display.HTML object>"
            ]
          },
          "metadata": {
            "tags": []
          }
        }
      ]
    },
    {
      "cell_type": "code",
      "metadata": {
        "id": "bNU78uSW4MBF",
        "colab_type": "code",
        "colab": {
          "base_uri": "https://localhost:8080/",
          "height": 1000
        },
        "outputId": "a32407fb-f8b2-4b98-e65b-596150278ccf"
      },
      "source": [
        "##kernel size=(6,6)\n",
        "##kernel數量：32\n",
        "##Same padding、strides=(1,1)\n",
        "test1 = \"Same padding、strides=(1,1)\"\n",
        "print(test1)\n",
        "classifier=Sequential()\n",
        "inputs = Input(shape=(13,13,1))\n",
        "x=Convolution2D(filters = 32,\n",
        "                kernel_size = (6,6),\n",
        "                padding='same',\n",
        "                strides = (1,1))(inputs)\n",
        "model = Model(inputs=inputs, outputs=x)\n",
        "model.summary()\n",
        "\n",
        "\n",
        "## Same padding、strides=(2,2)\n",
        "test2 = \"\\n\\n Same padding、strides=(2,2)\"\n",
        "print(test2)\n",
        "classifier=Sequential()\n",
        "inputs = Input(shape=(13,13,1))\n",
        "x=Convolution2D(filters = 32,\n",
        "                kernel_size = (6,6),\n",
        "                padding='same',\n",
        "                strides = (2,2))(inputs)\n",
        "model = Model(inputs=inputs, outputs=x)\n",
        "model.summary()\n",
        "\n",
        "\n",
        "\n",
        "## Valid padding、strides=(1,1)\n",
        "test3 = \"\\n\\n Valid padding、strides=(1,1)\"\n",
        "print(test3)\n",
        "classifier=Sequential()\n",
        "inputs = Input(shape=(13,13,1))\n",
        "x=Convolution2D(filters = 32,\n",
        "                kernel_size = (6,6),\n",
        "                padding='valid',\n",
        "                strides = (1,1))(inputs)\n",
        "model = Model(inputs=inputs, outputs=x)\n",
        "model.summary()\n",
        "\n",
        "## Valid padding、strides=(2,2)\n",
        "test4 = \"\\n\\n Valid padding、strides=(2,2)\"\n",
        "print(test4)\n",
        "classifier=Sequential()\n",
        "inputs = Input(shape=(13,13,1))\n",
        "x=Convolution2D(filters = 32,\n",
        "                kernel_size = (6,6),\n",
        "                padding='valid',\n",
        "                strides = (2,2))(inputs)\n",
        "model = Model(inputs=inputs, outputs=x)\n",
        "model.summary()\n"
      ],
      "execution_count": 2,
      "outputs": [
        {
          "output_type": "stream",
          "text": [
            "Same padding、strides=(1,1)\n",
            "WARNING:tensorflow:From /usr/local/lib/python3.6/dist-packages/keras/backend/tensorflow_backend.py:66: The name tf.get_default_graph is deprecated. Please use tf.compat.v1.get_default_graph instead.\n",
            "\n",
            "WARNING:tensorflow:From /usr/local/lib/python3.6/dist-packages/keras/backend/tensorflow_backend.py:541: The name tf.placeholder is deprecated. Please use tf.compat.v1.placeholder instead.\n",
            "\n",
            "WARNING:tensorflow:From /usr/local/lib/python3.6/dist-packages/keras/backend/tensorflow_backend.py:4432: The name tf.random_uniform is deprecated. Please use tf.random.uniform instead.\n",
            "\n",
            "Model: \"model_1\"\n",
            "_________________________________________________________________\n",
            "Layer (type)                 Output Shape              Param #   \n",
            "=================================================================\n",
            "input_1 (InputLayer)         (None, 13, 13, 1)         0         \n",
            "_________________________________________________________________\n",
            "conv2d_1 (Conv2D)            (None, 13, 13, 32)        1184      \n",
            "=================================================================\n",
            "Total params: 1,184\n",
            "Trainable params: 1,184\n",
            "Non-trainable params: 0\n",
            "_________________________________________________________________\n",
            "\n",
            "\n",
            " Same padding、strides=(2,2)\n",
            "Model: \"model_2\"\n",
            "_________________________________________________________________\n",
            "Layer (type)                 Output Shape              Param #   \n",
            "=================================================================\n",
            "input_2 (InputLayer)         (None, 13, 13, 1)         0         \n",
            "_________________________________________________________________\n",
            "conv2d_2 (Conv2D)            (None, 7, 7, 32)          1184      \n",
            "=================================================================\n",
            "Total params: 1,184\n",
            "Trainable params: 1,184\n",
            "Non-trainable params: 0\n",
            "_________________________________________________________________\n",
            "\n",
            "\n",
            " Valid padding、strides=(1,1)\n",
            "Model: \"model_3\"\n",
            "_________________________________________________________________\n",
            "Layer (type)                 Output Shape              Param #   \n",
            "=================================================================\n",
            "input_3 (InputLayer)         (None, 13, 13, 1)         0         \n",
            "_________________________________________________________________\n",
            "conv2d_3 (Conv2D)            (None, 8, 8, 32)          1184      \n",
            "=================================================================\n",
            "Total params: 1,184\n",
            "Trainable params: 1,184\n",
            "Non-trainable params: 0\n",
            "_________________________________________________________________\n",
            "\n",
            "\n",
            " Valid padding、strides=(2,2)\n",
            "Model: \"model_4\"\n",
            "_________________________________________________________________\n",
            "Layer (type)                 Output Shape              Param #   \n",
            "=================================================================\n",
            "input_4 (InputLayer)         (None, 13, 13, 1)         0         \n",
            "_________________________________________________________________\n",
            "conv2d_4 (Conv2D)            (None, 4, 4, 32)          1184      \n",
            "=================================================================\n",
            "Total params: 1,184\n",
            "Trainable params: 1,184\n",
            "Non-trainable params: 0\n",
            "_________________________________________________________________\n"
          ],
          "name": "stdout"
        }
      ]
    }
  ]
}