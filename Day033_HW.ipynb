{
  "nbformat": 4,
  "nbformat_minor": 0,
  "metadata": {
    "kernelspec": {
      "display_name": "Python 3",
      "language": "python",
      "name": "python3"
    },
    "language_info": {
      "codemirror_mode": {
        "name": "ipython",
        "version": 3
      },
      "file_extension": ".py",
      "mimetype": "text/x-python",
      "name": "python",
      "nbconvert_exporter": "python",
      "pygments_lexer": "ipython3",
      "version": "3.6.1"
    },
    "colab": {
      "name": "Day33_HW.ipynb",
      "provenance": []
    }
  },
  "cells": [
    {
      "cell_type": "markdown",
      "metadata": {
        "id": "Bu7RSyCqYdBS",
        "colab_type": "text"
      },
      "source": [
        "## YOLO 細節理解 - 網路輸出的後處理    \n",
        "今天的課程，我們說明了NMS在yolo中運作的情形:\n",
        "* NMS在YOLO的實際運作以每一個類別為主，各別執行NMS。     \n",
        "* YOLO 在NMS中採用的信心度為「每個 bbox 包含各類別的信心度」      \n"
      ]
    },
    {
      "cell_type": "markdown",
      "metadata": {
        "id": "Z9YHBcEGYdBV",
        "colab_type": "text"
      },
      "source": [
        "\n",
        "### 作業\n",
        "在NMS流程中，IoU重疊率參數(nms_threshold )調高，試著思考一下輸出的預測框會有甚麼變化?\n",
        "\n",
        "Hint: 可以回頭看今天介紹的內容，思考輸出的預測框變多或變少?\n"
      ]
    },
    {
      "cell_type": "markdown",
      "metadata": {
        "id": "OZqdye8BWNvm",
        "colab_type": "text"
      },
      "source": [
        "![alt text](http://kwassistfile.cupoy.com/0000016F82BAF142000000F56375706F795F72656C65617365414E53/1574048359316/large)\n",
        "\n",
        "\n",
        "參數nms_threshold參數調高 (IoU threshold=0.6)\n",
        "\n",
        "* IoU不易達到(預測框重疊率)，較少bbox被過濾掉，一個物件有多個框偵測到，導致 NMS 效果就不好。\n",
        "![alt text](http://kwassistfile.cupoy.com/0000016F830A02DC000000F96375706F795F72656C65617365414E53/1574048359319/large)\n",
        "\n",
        "\n",
        "\n",
        "\n",
        "參數nms_threshold參數調調低  (IoU threshold=0.4)\n",
        "* IoU容易達到(預測框重疊率)，很多bbox會被濾掉，觀察到顯示的預測框會變少。\n",
        "![alt text](http://kwassistfile.cupoy.com/0000016F830A02DC000000F96375706F795F72656C65617365414E53/1574048359318/large)\n",
        "\n",
        "\n",
        "\n"
      ]
    }
  ]
}