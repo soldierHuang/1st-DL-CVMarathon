{
  "nbformat": 4,
  "nbformat_minor": 0,
  "metadata": {
    "colab": {
      "name": "Day013_________HW.ipynb",
      "provenance": [],
      "collapsed_sections": [],
      "toc_visible": true
    },
    "kernelspec": {
      "display_name": "Python 3",
      "language": "python",
      "name": "python3"
    },
    "language_info": {
      "codemirror_mode": {
        "name": "ipython",
        "version": 3
      },
      "file_extension": ".py",
      "mimetype": "text/x-python",
      "name": "python",
      "nbconvert_exporter": "python",
      "pygments_lexer": "ipython3",
      "version": "3.6.7"
    }
  },
  "cells": [
    {
      "cell_type": "markdown",
      "metadata": {
        "id": "WtP3KNe2sSZL",
        "colab_type": "text"
      },
      "source": [
        "## 『作業內容』\n",
        "####   依照指示，搭建Maxpooling層與全連接層"
      ]
    },
    {
      "cell_type": "markdown",
      "metadata": {
        "id": "aETrBMQ9sSZN",
        "colab_type": "text"
      },
      "source": [
        "## 『目標』\n",
        "####   了解Maxpooling的原理與CNN、FC層連結的方式"
      ]
    },
    {
      "cell_type": "code",
      "metadata": {
        "id": "x-bAyMGbsSZO",
        "colab_type": "code",
        "colab": {
          "base_uri": "https://localhost:8080/",
          "height": 80
        },
        "outputId": "9b8be876-204e-489b-e2d2-40075186c042"
      },
      "source": [
        "from keras.models import Sequential  #用來啟動 NN\n",
        "from keras.layers import Conv2D  # Convolution Operation\n",
        "from keras.layers import MaxPooling2D # Pooling\n",
        "from keras.layers import Flatten\n",
        "from keras.layers import Dense # Fully Connected Networks\n",
        "from keras.layers import GlobalAveragePooling2D"
      ],
      "execution_count": 1,
      "outputs": [
        {
          "output_type": "stream",
          "text": [
            "Using TensorFlow backend.\n"
          ],
          "name": "stderr"
        },
        {
          "output_type": "display_data",
          "data": {
            "text/html": [
              "<p style=\"color: red;\">\n",
              "The default version of TensorFlow in Colab will soon switch to TensorFlow 2.x.<br>\n",
              "We recommend you <a href=\"https://www.tensorflow.org/guide/migrate\" target=\"_blank\">upgrade</a> now \n",
              "or ensure your notebook will continue to use TensorFlow 1.x via the <code>%tensorflow_version 1.x</code> magic:\n",
              "<a href=\"https://colab.research.google.com/notebooks/tensorflow_version.ipynb\" target=\"_blank\">more info</a>.</p>\n"
            ],
            "text/plain": [
              "<IPython.core.display.HTML object>"
            ]
          },
          "metadata": {
            "tags": []
          }
        }
      ]
    },
    {
      "cell_type": "code",
      "metadata": {
        "colab_type": "code",
        "id": "43xxX0yJxiDr",
        "colab": {
          "base_uri": "https://localhost:8080/",
          "height": 615
        },
        "outputId": "5b4eaa47-0365-44ae-d661-b95e1e097b87"
      },
      "source": [
        "input_shape = (32, 32, 3)\n",
        "\n",
        "model = Sequential()\n",
        "\n",
        "model.add(Conv2D(filters=32, \n",
        "                 kernel_size=(3, 3), \n",
        "                 padding='same',\n",
        "                 input_shape=input_shape))        ## (None, 32, 32, 32)\n",
        "\n",
        "model.add(MaxPooling2D(pool_size=(2,2),\n",
        "                       strides =(2,2)))  ##pooling_size=2,2 strides=2,2 輸出feature map 大小為多少？(None, 16, 16, 32)\n",
        "\n",
        "model.add(Conv2D(filters=64,\n",
        "                 kernel_size=(3, 3),\n",
        "                 padding='same'))       ## (None, 16, 16, 64)\n",
        "\n",
        "model.add(MaxPooling2D(pool_size=(2,2),\n",
        "                        strides=(2,2)))##pooling_size=2,2 strides=2,2 輸出feature map 大小為多少？(None, 8, 8, 64) \n",
        "\n",
        "model.add(Conv2D(filters=128,\n",
        "                 kernel_size=(3, 3),\n",
        "                 padding='same'))      ## (None, 8, 8, 128)\n",
        "\n",
        "model.add(MaxPooling2D(pool_size=(1,1),\n",
        "                       strides=(1,1) ))##pooling_size=1,1 strides=1,1 輸出feature map 大小為多少？   (None, 8, 8, 128)\n",
        "\n",
        "model.add(Conv2D(filters=10,\n",
        "                 kernel_size=(3, 3),\n",
        "                 padding='same'))        ## (None, 8, 8, 10) \n",
        "\n",
        "model.add(Flatten()) ##Flatten完尺寸如何變化？  (None, 640)\n",
        "\n",
        "\n",
        "model.add(Dense(units=28)) ##全連接層使用28個units  (None, 28) \n",
        "model.summary()"
      ],
      "execution_count": 2,
      "outputs": [
        {
          "output_type": "stream",
          "text": [
            "WARNING:tensorflow:From /usr/local/lib/python3.6/dist-packages/keras/backend/tensorflow_backend.py:66: The name tf.get_default_graph is deprecated. Please use tf.compat.v1.get_default_graph instead.\n",
            "\n",
            "WARNING:tensorflow:From /usr/local/lib/python3.6/dist-packages/keras/backend/tensorflow_backend.py:541: The name tf.placeholder is deprecated. Please use tf.compat.v1.placeholder instead.\n",
            "\n",
            "WARNING:tensorflow:From /usr/local/lib/python3.6/dist-packages/keras/backend/tensorflow_backend.py:4432: The name tf.random_uniform is deprecated. Please use tf.random.uniform instead.\n",
            "\n",
            "WARNING:tensorflow:From /usr/local/lib/python3.6/dist-packages/keras/backend/tensorflow_backend.py:4267: The name tf.nn.max_pool is deprecated. Please use tf.nn.max_pool2d instead.\n",
            "\n",
            "Model: \"sequential_1\"\n",
            "_________________________________________________________________\n",
            "Layer (type)                 Output Shape              Param #   \n",
            "=================================================================\n",
            "conv2d_1 (Conv2D)            (None, 32, 32, 32)        896       \n",
            "_________________________________________________________________\n",
            "max_pooling2d_1 (MaxPooling2 (None, 16, 16, 32)        0         \n",
            "_________________________________________________________________\n",
            "conv2d_2 (Conv2D)            (None, 16, 16, 64)        18496     \n",
            "_________________________________________________________________\n",
            "max_pooling2d_2 (MaxPooling2 (None, 8, 8, 64)          0         \n",
            "_________________________________________________________________\n",
            "conv2d_3 (Conv2D)            (None, 8, 8, 128)         73856     \n",
            "_________________________________________________________________\n",
            "max_pooling2d_3 (MaxPooling2 (None, 8, 8, 128)         0         \n",
            "_________________________________________________________________\n",
            "conv2d_4 (Conv2D)            (None, 8, 8, 10)          11530     \n",
            "_________________________________________________________________\n",
            "flatten_1 (Flatten)          (None, 640)               0         \n",
            "_________________________________________________________________\n",
            "dense_1 (Dense)              (None, 28)                17948     \n",
            "=================================================================\n",
            "Total params: 122,726\n",
            "Trainable params: 122,726\n",
            "Non-trainable params: 0\n",
            "_________________________________________________________________\n"
          ],
          "name": "stdout"
        }
      ]
    },
    {
      "cell_type": "code",
      "metadata": {
        "id": "hjnEHjKcsSZV",
        "colab_type": "code",
        "colab": {
          "base_uri": "https://localhost:8080/",
          "height": 459
        },
        "outputId": "d1c69909-b388-4f74-b882-d0589cbca11c"
      },
      "source": [
        "input_shape = (32, 32, 3)\n",
        "\n",
        "model = Sequential()\n",
        "\n",
        "model.add(Conv2D(filters=32, \n",
        "                 kernel_size=(3, 3), \n",
        "                 padding='same',\n",
        "                 input_shape=input_shape))   ## (None, 32, 32, 32)\n",
        "\n",
        "model.add(MaxPooling2D(pool_size=(2,2),\n",
        "                       strides =(2,2)))  ##pooling_size=2,2 strides=2,2 輸出feature map 大小為多少？ (None, 16, 16, 32) \n",
        "\n",
        "model.add(Conv2D(filters=64,\n",
        "                 kernel_size=(3, 3),\n",
        "                 padding='same'))          ## (None, 16, 16, 64)  \n",
        "\n",
        "model.add(MaxPooling2D(pool_size=(2,2),\n",
        "                        strides=(2,2)))##pooling_size=2,2 strides=2,2 輸出feature map 大小為多少？ (None, 8, 8, 64)  \n",
        "\n",
        "model.add(Conv2D(filters=128,\n",
        "                 kernel_size=(3, 3),\n",
        "                 padding='same'))      ## (None, 8, 8, 128)\n",
        "\n",
        "model.add(MaxPooling2D(pool_size=(1,1),\n",
        "                       strides=(1,1) ))##pooling_size=1,1 strides=1,1 輸出feature map 大小為多少？  (None, 8, 8, 128)\n",
        "\n",
        "model.add(Conv2D(filters=10,\n",
        "                 kernel_size=(3, 3),\n",
        "                 padding='same'))     ##  (None, 8, 8, 10) \n",
        "\n",
        "model.add(GlobalAveragePooling2D()) #關掉Flatten，使用GlobalAveragePooling2D，完尺寸如何變化？  (None, 10)  \n",
        "\n",
        "model.add(Dense(units=28)) ##全連接層使用28個units  (None, 28) \n",
        "\n",
        "model.summary()"
      ],
      "execution_count": 3,
      "outputs": [
        {
          "output_type": "stream",
          "text": [
            "Model: \"sequential_2\"\n",
            "_________________________________________________________________\n",
            "Layer (type)                 Output Shape              Param #   \n",
            "=================================================================\n",
            "conv2d_5 (Conv2D)            (None, 32, 32, 32)        896       \n",
            "_________________________________________________________________\n",
            "max_pooling2d_4 (MaxPooling2 (None, 16, 16, 32)        0         \n",
            "_________________________________________________________________\n",
            "conv2d_6 (Conv2D)            (None, 16, 16, 64)        18496     \n",
            "_________________________________________________________________\n",
            "max_pooling2d_5 (MaxPooling2 (None, 8, 8, 64)          0         \n",
            "_________________________________________________________________\n",
            "conv2d_7 (Conv2D)            (None, 8, 8, 128)         73856     \n",
            "_________________________________________________________________\n",
            "max_pooling2d_6 (MaxPooling2 (None, 8, 8, 128)         0         \n",
            "_________________________________________________________________\n",
            "conv2d_8 (Conv2D)            (None, 8, 8, 10)          11530     \n",
            "_________________________________________________________________\n",
            "global_average_pooling2d_1 ( (None, 10)                0         \n",
            "_________________________________________________________________\n",
            "dense_2 (Dense)              (None, 28)                308       \n",
            "=================================================================\n",
            "Total params: 105,086\n",
            "Trainable params: 105,086\n",
            "Non-trainable params: 0\n",
            "_________________________________________________________________\n"
          ],
          "name": "stdout"
        }
      ]
    }
  ]
}