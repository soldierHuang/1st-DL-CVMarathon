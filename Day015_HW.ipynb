{
  "nbformat": 4,
  "nbformat_minor": 0,
  "metadata": {
    "kernelspec": {
      "name": "python3",
      "display_name": "Python 3"
    },
    "language_info": {
      "codemirror_mode": {
        "name": "ipython",
        "version": 3
      },
      "file_extension": ".py",
      "mimetype": "text/x-python",
      "name": "python",
      "nbconvert_exporter": "python",
      "pygments_lexer": "ipython3",
      "version": "3.6.7"
    },
    "colab": {
      "name": "Day015_Cifar_HW.ipynb",
      "provenance": [],
      "private_outputs": true
    },
    "accelerator": "GPU"
  },
  "cells": [
    {
      "cell_type": "markdown",
      "metadata": {
        "id": "-p3ngFr8WtzI",
        "colab_type": "text"
      },
      "source": [
        "## 『本次練習內容』\n",
        "#### 運用這幾天所學觀念搭建一個CNN分類器"
      ]
    },
    {
      "cell_type": "markdown",
      "metadata": {
        "id": "sNmJPyCXWtzL",
        "colab_type": "text"
      },
      "source": [
        "## 『本次練習目的』\n",
        "  #### 熟悉CNN分類器搭建步驟與原理\n",
        "  #### 學員們可以嘗試不同搭法，如使用不同的Maxpooling層，用GlobalAveragePooling取代Flatten等等"
      ]
    },
    {
      "cell_type": "markdown",
      "metadata": {
        "id": "_ihWpMfXXXh5",
        "colab_type": "text"
      },
      "source": [
        "![alt text](https://antkillerfarm.github.io/images/article/global_average_pooling.png)\n",
        "\n",
        "* [link text](https://antkillerfarm.github.io/images/article/global_average_pooling.png)"
      ]
    },
    {
      "cell_type": "code",
      "metadata": {
        "id": "wwG_wSaFWtzN",
        "colab_type": "code",
        "colab": {}
      },
      "source": [
        "from keras.models import Sequential\n",
        "from keras.layers import Convolution2D\n",
        "from keras.layers import MaxPooling2D\n",
        "from keras.layers import Flatten\n",
        "from keras.layers import Dense\n",
        "from keras.layers import Dropout\n",
        "from keras.layers import BatchNormalization\n",
        "from keras.datasets import cifar10\n",
        "import numpy as np\n",
        "import tensorflow as tf\n",
        "from sklearn.preprocessing import OneHotEncoder\n"
      ],
      "execution_count": 0,
      "outputs": []
    },
    {
      "cell_type": "code",
      "metadata": {
        "id": "b-bJRdm_WtzT",
        "colab_type": "code",
        "colab": {}
      },
      "source": [
        "(x_train, y_train), (x_test, y_test) = cifar10.load_data()\n",
        "\n",
        "print(x_train.shape) #(50000, 32, 32, 3)\n",
        "\n",
        "## Normalize Data\n",
        "def normalize(X_train,X_test):\n",
        "        mean = np.mean(X_train,axis=(0,1,2,3))\n",
        "        std = np.std(X_train, axis=(0, 1, 2, 3))\n",
        "        X_train = (X_train-mean)/(std+1e-7)\n",
        "        X_test = (X_test-mean)/(std+1e-7) \n",
        "        return X_train, X_test,mean,std\n",
        "    \n",
        "    \n",
        "## Normalize Training and Testset    \n",
        "x_train, x_test,mean_train,std_train = normalize(x_train, x_test) "
      ],
      "execution_count": 0,
      "outputs": []
    },
    {
      "cell_type": "code",
      "metadata": {
        "id": "SPBsk6maWtzX",
        "colab_type": "code",
        "colab": {}
      },
      "source": [
        "## OneHot Label 由(None, 1)-(None, 10)\n",
        "## ex. label=2,變成[0,0,1,0,0,0,0,0,0,0]\n",
        "one_hot=OneHotEncoder()\n",
        "y_train=one_hot.fit_transform(y_train).toarray()\n",
        "y_test=one_hot.transform(y_test).toarray()"
      ],
      "execution_count": 0,
      "outputs": []
    },
    {
      "cell_type": "code",
      "metadata": {
        "id": "zZQa3MCXWtzb",
        "colab_type": "code",
        "colab": {}
      },
      "source": [
        "\n",
        "classifier=Sequential()\n",
        "input_shape=(32,32,3)\n",
        "\n",
        "#卷積組合     #32,3,3,input_shape=(32,32,3),activation='relu''\n",
        "classifier.add(Convolution2D(filters=3,    \n",
        "                 kernel_size=(3, 3), \n",
        "                 padding='same',\n",
        "                 input_shape=input_shape))\n",
        "\n",
        "#卷積組合\n",
        "classifier.add(Convolution2D(filters=32,    \n",
        "                 kernel_size=(3, 3), \n",
        "                 padding='same'))\n",
        "\n",
        "\n",
        "# '''自己決定MaxPooling2D放在哪裡'''\n",
        "classifier.add(MaxPooling2D(pool_size=(2,2)))\n",
        "\n",
        "classifier.add(BatchNormalization(axis=1, \n",
        "                             momentum=0.95, \n",
        "                             epsilon=0.05))\n",
        "\n",
        "#flatten\n",
        "classifier.add(Flatten())\n",
        "\n",
        "#FC   #output_dim=100,activation=relu\n",
        "classifier.add(Dense(units=100,\n",
        "                     activation='relu')) \n",
        "\n",
        "#輸出\n",
        "classifier.add(Dense(units=10,\n",
        "                     activation='softmax'))\n",
        "\n",
        "#超過兩個就要選categorical_crossentrophy\n",
        "classifier.compile(optimizer = 'adam',\n",
        "                   loss = 'categorical_crossentropy',\n",
        "                   metrics = ['accuracy'])\n",
        "\n",
        "classifier.summary()"
      ],
      "execution_count": 0,
      "outputs": []
    },
    {
      "cell_type": "code",
      "metadata": {
        "id": "q3zeT_uLuYAu",
        "colab_type": "code",
        "colab": {}
      },
      "source": [
        "classifier.fit(x_train,y_train,batch_size=100,epochs=100)"
      ],
      "execution_count": 0,
      "outputs": []
    },
    {
      "cell_type": "code",
      "metadata": {
        "id": "tuzsuUcniLqX",
        "colab_type": "code",
        "colab": {}
      },
      "source": [
        "import matplotlib.pyplot as plt\n",
        "\n",
        "his = classifier.history\n",
        "plt.figure()\n",
        "\n",
        "plt.plot(his.history[\"acc\"], \"-\" ,  label=\"acc\")\n",
        "plt.plot(his.history[\"loss\"], label=\"loss\")"
      ],
      "execution_count": 0,
      "outputs": []
    },
    {
      "cell_type": "markdown",
      "metadata": {
        "id": "_TcqMOSiWtze",
        "colab_type": "text"
      },
      "source": [
        "## 預測新圖片，輸入影像前處理要與訓練時相同\n",
        "#### ((X-mean)/(std+1e-7) ):這裡的mean跟std是訓練集的\n",
        "## 維度如下方示範"
      ]
    },
    {
      "cell_type": "code",
      "metadata": {
        "id": "QUUPsb6fWtzf",
        "colab_type": "code",
        "colab": {}
      },
      "source": [
        "input_example=(np.zeros(shape=(1,32,32,3))-mean_train)/(std_train+1e-7) \n",
        "classifier.predict(input_example)"
      ],
      "execution_count": 0,
      "outputs": []
    }
  ]
}