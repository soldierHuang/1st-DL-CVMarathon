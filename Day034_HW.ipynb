{
  "nbformat": 4,
  "nbformat_minor": 0,
  "metadata": {
    "kernelspec": {
      "display_name": "Python 3",
      "language": "python",
      "name": "python3"
    },
    "language_info": {
      "codemirror_mode": {
        "name": "ipython",
        "version": 3
      },
      "file_extension": ".py",
      "mimetype": "text/x-python",
      "name": "python",
      "nbconvert_exporter": "python",
      "pygments_lexer": "ipython3",
      "version": "3.6.1"
    },
    "colab": {
      "name": "Day034_HW.ipynb",
      "provenance": [],
      "collapsed_sections": []
    }
  },
  "cells": [
    {
      "cell_type": "markdown",
      "metadata": {
        "id": "Bnmm4e85ZBf2",
        "colab_type": "text"
      },
      "source": [
        "## Day34.YOLO 細節理解 - 損失函數\n",
        "今天的課程，我們講述了\n",
        "* 損失函數是描述模型預測出來的結果和實際的差異的依據    \n",
        "* YOLO 損失函數的設計包含物件位置的定位與物件類別辨識    \n",
        "* YOLO損失函數透過超參數設定模型有不同的辨識能力    \n",
        "\n"
      ]
    },
    {
      "cell_type": "markdown",
      "metadata": {
        "id": "exUoZwe5ZBf9",
        "colab_type": "text"
      },
      "source": [
        "### 作業\n",
        "仔細觀察，bbox 寬高計算損失方式和bbox中心計算損失方式有哪邊不一樣嗎? 為什麼要有不同的設計?\n",
        "\n",
        "\n"
      ]
    },
    {
      "cell_type": "markdown",
      "metadata": {
        "id": "B1bidKzxX5Tq",
        "colab_type": "text"
      },
      "source": [
        "![alt text](https://miro.medium.com/max/1072/0*dIuUIWaGdtq1yKzi.png)"
      ]
    },
    {
      "cell_type": "markdown",
      "metadata": {
        "id": "mZ9M5daHYB-x",
        "colab_type": "text"
      },
      "source": [
        "bbox中心計算損失方式 => Bounding Box Location (x,y)\n",
        "\n",
        "bbox寬高計算損失方式 => Bounding Box size (w,h)\n",
        "* 對於偵測小物件（[5,10] -> [6,8]) vs 大物件([50,100] -> [51,98]) \n",
        "\n",
        " * 未開根號計算時，其 w,h 誤差皆為[-1*-1,2*2], 但對於小物件bbox其精度相差大。\n",
        " * 開根號計算後，其 w,h 誤差皆縮小,對於小物件bbox其精度大幅提昇。\n",
        "\n"
      ]
    }
  ]
}