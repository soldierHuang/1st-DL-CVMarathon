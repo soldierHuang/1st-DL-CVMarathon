{
  "nbformat": 4,
  "nbformat_minor": 0,
  "metadata": {
    "colab": {
      "name": "Day020_Classic CNN-ResNet_nceptionV4_nception-ResNet_HW.ipynb",
      "provenance": [],
      "collapsed_sections": []
    },
    "kernelspec": {
      "display_name": "Python 3",
      "language": "python",
      "name": "python3"
    },
    "language_info": {
      "codemirror_mode": {
        "name": "ipython",
        "version": 3
      },
      "file_extension": ".py",
      "mimetype": "text/x-python",
      "name": "python",
      "nbconvert_exporter": "python",
      "pygments_lexer": "ipython3",
      "version": "3.6.7"
    }
  },
  "cells": [
    {
      "cell_type": "markdown",
      "metadata": {
        "id": "gs6u2tTAvDlf",
        "colab_type": "text"
      },
      "source": [
        "## 『本次練習內容』\n",
        "#### 學習如何搭建 Residual Block\n",
        "####  學習如何搭建Inception-ResNet中的 Inception Block"
      ]
    },
    {
      "cell_type": "markdown",
      "metadata": {
        "id": "z3n8_48ovDlj",
        "colab_type": "text"
      },
      "source": [
        "## 『本次練習目的』\n",
        "  #### 了解 Residual Block原理\n",
        "  #### 了解如何結合Inception 與 Residual概念"
      ]
    },
    {
      "cell_type": "markdown",
      "metadata": {
        "id": "pYrK1VA6vDlk",
        "colab_type": "text"
      },
      "source": [
        "---"
      ]
    },
    {
      "cell_type": "markdown",
      "metadata": {
        "id": "6t5uCE5svDll",
        "colab_type": "text"
      },
      "source": [
        "## Part1"
      ]
    },
    {
      "cell_type": "code",
      "metadata": {
        "id": "E6esIjyFvDln",
        "colab_type": "code",
        "colab": {
          "base_uri": "https://localhost:8080/",
          "height": 80
        },
        "outputId": "26f0d9a1-290d-428f-b0ce-2c735051cedd"
      },
      "source": [
        "from keras import backend as K\n",
        "from keras import layers\n",
        "from keras.models import Model\n",
        "from keras.layers import Flatten\n",
        "from keras.layers import Dense\n",
        "from keras.layers import Input\n",
        "from keras.layers import Conv2D\n",
        "from keras.layers import MaxPooling2D\n",
        "from keras.layers import GlobalMaxPooling2D\n",
        "from keras.layers import GlobalAveragePooling2D\n",
        "from keras.layers import BatchNormalization\n",
        "from keras.layers import Activation\n",
        "from keras.layers import Concatenate\n",
        "from keras.layers import Lambda\n",
        "\n",
        "import numpy as np\n",
        "from google.colab.patches import cv2_imshow\n",
        "import cv2"
      ],
      "execution_count": 1,
      "outputs": [
        {
          "output_type": "stream",
          "text": [
            "Using TensorFlow backend.\n"
          ],
          "name": "stderr"
        },
        {
          "output_type": "display_data",
          "data": {
            "text/html": [
              "<p style=\"color: red;\">\n",
              "The default version of TensorFlow in Colab will soon switch to TensorFlow 2.x.<br>\n",
              "We recommend you <a href=\"https://www.tensorflow.org/guide/migrate\" target=\"_blank\">upgrade</a> now \n",
              "or ensure your notebook will continue to use TensorFlow 1.x via the <code>%tensorflow_version 1.x</code> magic:\n",
              "<a href=\"https://colab.research.google.com/notebooks/tensorflow_version.ipynb\" target=\"_blank\">more info</a>.</p>\n"
            ],
            "text/plain": [
              "<IPython.core.display.HTML object>"
            ]
          },
          "metadata": {
            "tags": []
          }
        }
      ]
    },
    {
      "cell_type": "markdown",
      "metadata": {
        "id": "V9gCI6kJ4ZBE",
        "colab_type": "text"
      },
      "source": [
        "![ResNet_Structure](https://cvdl.cupoy.com/HomeworkAction.do?op=getHomeworkFileContent&hwid=D20&filepath=ResNet_Structure.png)"
      ]
    },
    {
      "cell_type": "markdown",
      "metadata": {
        "id": "3RunhCtWvDlt",
        "colab_type": "text"
      },
      "source": [
        "## ResNetV1"
      ]
    },
    {
      "cell_type": "code",
      "metadata": {
        "id": "pYmFN5C9vDlu",
        "colab_type": "code",
        "colab": {}
      },
      "source": [
        "# ResNetV1\n",
        "\n",
        "def Residual_block(input_tensor, kernel_size, filters, stage, block):\n",
        "    filters1, filters2, filters3 = filters\n",
        "    conv_name_base = 'res' + str(stage) + block + '_branch'\n",
        "    bn_name_base = 'bn' + str(stage) + block + '_branch'\n",
        "\n",
        "    x = Conv2D(filters1, (1, 1), name=conv_name_base + '2a')(input_tensor)\n",
        "    x = BatchNormalization(axis=3, name=bn_name_base + '2a')(x)\n",
        "    x = Activation('relu')(x)\n",
        "\n",
        "    x = Conv2D(filters2, kernel_size,\n",
        "               padding='same', name=conv_name_base + '2b')(x)\n",
        "    x = BatchNormalization(axis=3, name=bn_name_base + '2b')(x)\n",
        "   \n",
        "\n",
        "    x = layers.add([x, input_tensor])\n",
        "    x = Activation('relu')(x)\n",
        "    return x"
      ],
      "execution_count": 0,
      "outputs": []
    },
    {
      "cell_type": "markdown",
      "metadata": {
        "id": "FStDalfmvDly",
        "colab_type": "text"
      },
      "source": [
        "## 參考ResNetV1 搭建 ResNetV2版本的Residual Block"
      ]
    },
    {
      "cell_type": "code",
      "metadata": {
        "id": "a70ZLz80vDlz",
        "colab_type": "code",
        "colab": {}
      },
      "source": [
        "# ResNetV2\n",
        "\n",
        "def Residual_block_v2(input_tensor, kernel_size, filters, stage, block):\n",
        "    filters1, filters2, filters3 = filters\n",
        "    conv_name_base = 'res' + str(stage) + block + '_branch'\n",
        "    bn_name_base = 'bn' + str(stage) + block + '_branch'\n",
        "\n",
        "    x = Conv2D(filters1, (1, 1), name=conv_name_base + '2a')(input_tensor)\n",
        "    x = BatchNormalization(axis=3, name=bn_name_base + '2a')(x)\n",
        "    x = Activation('relu')(x)\n",
        "\n",
        "    x = Conv2D(filters2, kernel_size,\n",
        "               padding='same', name=conv_name_base + '2b')(x)\n",
        "\n",
        "    x = layers.add([x, input_tensor])\n",
        "    x = Activation('relu')(x)\n",
        "    return x"
      ],
      "execution_count": 0,
      "outputs": []
    },
    {
      "cell_type": "markdown",
      "metadata": {
        "id": "rEbQHCfrvDl2",
        "colab_type": "text"
      },
      "source": [
        "## 試試看自己設計一個先壓縮再回放的V2 Block"
      ]
    },
    {
      "cell_type": "code",
      "metadata": {
        "id": "r9NTmPH0vDl3",
        "colab_type": "code",
        "colab": {}
      },
      "source": [
        "# ResNetV2s\n",
        "\n",
        "def Residual_block_v2s(input_tensor, kernel_size, stage, block,reduce=96,ouput_size=128):\n",
        "\n",
        "    conv_name_base = 'res' + str(stage) + block + '_branch'\n",
        "    bn_name_base = 'bn' + str(stage) + block + '_branch'\n",
        "\n",
        "    x = Conv2D(reduce, (1, 1), name=conv_name_base + '2sa')(input_tensor)\n",
        "    x = BatchNormalization(axis=3, name=bn_name_base + '2sa')(x)\n",
        "    x = Activation('relu')(x)\n",
        "    \n",
        "    x = Conv2D(ouput_size, kernel_size,\n",
        "               padding='same', name=conv_name_base + '2sb')(x)\n",
        "    \n",
        "    x = layers.add([x, input_tensor])"
      ],
      "execution_count": 0,
      "outputs": []
    },
    {
      "cell_type": "markdown",
      "metadata": {
        "id": "nKm-xB99vDl6",
        "colab_type": "text"
      },
      "source": [
        "---"
      ]
    },
    {
      "cell_type": "markdown",
      "metadata": {
        "id": "2viP4O_ZvDl6",
        "colab_type": "text"
      },
      "source": [
        "## Part2"
      ]
    },
    {
      "cell_type": "code",
      "metadata": {
        "colab_type": "code",
        "id": "t9IKAa_4JbZ1",
        "colab": {}
      },
      "source": [
        "def Conv2d_bn(x,filters,kernel_size,padding='same',strides=(1, 1),normalizer=True,activation='relu',name=None):\n",
        "    if name is not None:\n",
        "        conv_name = name + '_conv'\n",
        "        bn_name = name + '_bn'\n",
        "        act_name = name + '_act'\n",
        "    else:\n",
        "        conv_name = None\n",
        "        bn_name = None\n",
        "        act_name = None\n",
        "    if K.image_data_format() == 'channels_first':\n",
        "        bn_axis = 1\n",
        "    else:\n",
        "        bn_axis = 3\n",
        "    x = Conv2D(\n",
        "            filters, kernel_size,\n",
        "            strides=strides, padding=padding,\n",
        "            use_bias=False, name=conv_name)(x)\n",
        "    if normalizer:\n",
        "        x = BatchNormalization(axis=bn_axis, scale=False, name=bn_name)(x)\n",
        "    if activation:\n",
        "        x = Activation(activation, name=act_name)(x)\n",
        "    return x"
      ],
      "execution_count": 0,
      "outputs": []
    },
    {
      "cell_type": "markdown",
      "metadata": {
        "id": "hOVbLePKQcqb",
        "colab_type": "text"
      },
      "source": [
        "![Residual_block](https://img-blog.csdnimg.cn/20181216143902767.png?x-oss-process=image/watermark,type_ZmFuZ3poZW5naGVpdGk,shadow_10,text_aHR0cHM6Ly9ibG9nLmNzZG4ubmV0L2JvaWNlX2dpcmw=,size_16,color_FFFFFF,t_70)"
      ]
    },
    {
      "cell_type": "code",
      "metadata": {
        "colab_type": "code",
        "id": "d7iVPJQkJbZ-",
        "colab": {}
      },
      "source": [
        "def Residual_block(input_tensor, kernel_size, filters, stage, block):\n",
        "    filters1, filters2, filters3 = filters\n",
        "    conv_name_base = 'res' + str(stage) + block + '_branch'\n",
        "    bn_name_base = 'bn' + str(stage) + block + '_branch'\n",
        "\n",
        "    x = Conv2D(filters1, (1, 1), name=conv_name_base + '2a')(input_tensor)\n",
        "    x = BatchNormalization(axis=3, name=bn_name_base + '2a')(x)\n",
        "    x = Activation('relu')(x)\n",
        "\n",
        "    x = Conv2D(filters2, kernel_size,\n",
        "               padding='same', name=conv_name_base + '2b')(x)\n",
        "    x = BatchNormalization(axis=3, name=bn_name_base + '2b')(x)\n",
        "    x = Activation('relu')(x)\n",
        "\n",
        "    x = Conv2D(filters3, (1, 1), name=conv_name_base + '2c')(x)\n",
        "    x = BatchNormalization(axis=3, name=bn_name_base + '2c')(x)\n",
        "\n",
        "    x = layers.add([x, input_tensor])\n",
        "    x = Activation('relu')(x)\n",
        "    return x"
      ],
      "execution_count": 0,
      "outputs": []
    },
    {
      "cell_type": "markdown",
      "metadata": {
        "colab_type": "text",
        "id": "tfa8Vx5iJbZU"
      },
      "source": [
        "## Incpetion Block-A"
      ]
    },
    {
      "cell_type": "markdown",
      "metadata": {
        "colab_type": "text",
        "id": "xbuyi79mJbZX"
      },
      "source": [
        "![Incpeiton](https://cvdl.cupoy.com/HomeworkAction.do?op=getHomeworkFileContent&hwid=D20&filepath=Inception-ResNet-A.png)"
      ]
    },
    {
      "cell_type": "markdown",
      "metadata": {
        "colab_type": "text",
        "id": "3GI24k24JbZa"
      },
      "source": [
        "## Incpetion Block-B"
      ]
    },
    {
      "cell_type": "markdown",
      "metadata": {
        "colab_type": "text",
        "id": "Ge28e58BJbZd"
      },
      "source": [
        "![Incpeiton](https://cvdl.cupoy.com/HomeworkAction.do?op=getHomeworkFileContent&hwid=D20&filepath=Inception-ResNet-B.png)"
      ]
    },
    {
      "cell_type": "markdown",
      "metadata": {
        "colab_type": "text",
        "id": "aMz1WNBsJbZg"
      },
      "source": [
        "## Incpetion Block-C"
      ]
    },
    {
      "cell_type": "markdown",
      "metadata": {
        "colab_type": "text",
        "id": "A4lY1HV6JbZj"
      },
      "source": [
        "![Incpeiton](https://cvdl.cupoy.com/HomeworkAction.do?op=getHomeworkFileContent&hwid=D20&filepath=Inception-ResNet-C.png)"
      ]
    },
    {
      "cell_type": "markdown",
      "metadata": {
        "colab_type": "text",
        "id": "M0BEkO7VJbaI"
      },
      "source": [
        "## 參考上方Residual_block搭建 Inception-ResNet中的Inception Block"
      ]
    },
    {
      "cell_type": "code",
      "metadata": {
        "colab_type": "code",
        "id": "XJjxq9lWJbaN",
        "colab": {}
      },
      "source": [
        "def inception_resnet_block(x, scale, block_type, activation='relu'):\n",
        "    '''scale: scaling factor to scale the residuals before adding them\n",
        "            to the shortcut branch.(i.e., the output of passing `x` through an inception module)  \n",
        "        Let `r` be the output from the residual branch,\n",
        "            the output of this block will be `x + scale * r`.(簡單來說就是控制Residual branch的比例)'''\n",
        "\n",
        "    if block_type == 'Incpetion_Block-A':\n",
        "        branch_0 = Conv2d_bn(x, 32, (1,1), name=block_type + '2a_0')\n",
        "        branch_1 = Conv2d_bn(x, 32, (1,1), name=block_type + '2b_0')\n",
        "        branch_1 = Conv2d_bn(x, 32, (3, 3), name=block_type + '2b_1')\n",
        "        branch_2 = Conv2d_bn(x, 32, (1, 1), name=block_type + '2c_0')\n",
        "        branch_2 = Conv2d_bn(x, 48, (3, 3), name=block_type + '2c_1')\n",
        "        branch_2 = Conv2d_bn(x, 64, (3, 3), name=block_type + '2c_2')\n",
        "        branches = [branch_0, branch_1, branch_2]\n",
        "    elif block_type == 'Incpetion_Block-B':\n",
        "        branch_0 = Conv2d_bn(x, 192, (1, 1), name=block_type + '2a_0')\n",
        "        branch_1 = Conv2d_bn(x, 128, (1, 1), name=block_type + '2b_0')\n",
        "        branch_1 = Conv2d_bn(x, 160, (1, 7), name=block_type + '2b_1')\n",
        "        branch_1 = Conv2d_bn(x, 192, (7, 1), name=block_type + '2b_2')\n",
        "        branches = [branch_0, branch_1]\n",
        "    elif block_type == 'Incpetion_Block-C':\n",
        "        branch_0 = Conv2d_bn(x, 192, (1, 1), name=block_type + '2a_0')\n",
        "        branch_1 = Conv2d_bn(x, 192, (1, 1), name=block_type + '2b_0')\n",
        "        branch_1 = Conv2d_bn(x, 192, (1, 3), name=block_type + '2b_1')\n",
        "        branch_1 = Conv2d_bn(x, 192, (3, 1), name=block_type + '2b_2')\n",
        "        branches = [branch_0, branch_1]\n",
        "    else:\n",
        "        raise ValueError('Unknown Inception-ResNet block type. '\n",
        "                         'Expects \"block35\", \"block17\" or \"block8\", '\n",
        "                         'but got: ' + str(block_type))\n",
        "    mixed = Concatenate(axis=3)(branches)\n",
        "    \n",
        "    '''確保輸入跟輸出深度相同'''\n",
        "    up = Conv2d_bn(mixed,K.int_shape(x)[3],1,activation=None)\n",
        "    \n",
        "    '''導入殘差結構，並給予權重'''\n",
        "    \n",
        "    x = Lambda(lambda inputs, scale: inputs[0] + inputs[1] * scale, ##提示inputs[0]、inputs[1]\n",
        "               output_shape=K.int_shape(x)[1:],\n",
        "               arguments={'scale': scale},)([x,up])\n",
        "    \n",
        "    if activation is not None:\n",
        "        x = Activation(activation)(x)\n",
        "    return x\n"
      ],
      "execution_count": 0,
      "outputs": []
    },
    {
      "cell_type": "markdown",
      "metadata": {
        "colab_type": "text",
        "id": "HOBuOAjOJbab"
      },
      "source": [
        "## 測試"
      ]
    },
    {
      "cell_type": "code",
      "metadata": {
        "colab_type": "code",
        "id": "T-igNjppJbad",
        "outputId": "f7d414ec-eaba-4fca-ef2c-a8f264f3f5b7",
        "colab": {
          "base_uri": "https://localhost:8080/",
          "height": 462
        }
      },
      "source": [
        "img_input = Input(shape=(224,224,32))\n",
        "xA=inception_resnet_block(img_input, 0.1, 'Incpetion_Block-A', activation='relu')\n",
        "xB=inception_resnet_block(img_input, 0.1, 'Incpetion_Block-B', activation='relu')\n",
        "xC=inception_resnet_block(img_input, 0.1, 'Incpetion_Block-C', activation='relu')\n",
        "\n",
        "print(xA)\n",
        "print(xB)\n",
        "print(xC)"
      ],
      "execution_count": 8,
      "outputs": [
        {
          "output_type": "stream",
          "text": [
            "WARNING:tensorflow:From /usr/local/lib/python3.6/dist-packages/keras/backend/tensorflow_backend.py:66: The name tf.get_default_graph is deprecated. Please use tf.compat.v1.get_default_graph instead.\n",
            "\n",
            "WARNING:tensorflow:From /usr/local/lib/python3.6/dist-packages/keras/backend/tensorflow_backend.py:541: The name tf.placeholder is deprecated. Please use tf.compat.v1.placeholder instead.\n",
            "\n",
            "WARNING:tensorflow:From /usr/local/lib/python3.6/dist-packages/keras/backend/tensorflow_backend.py:4432: The name tf.random_uniform is deprecated. Please use tf.random.uniform instead.\n",
            "\n",
            "WARNING:tensorflow:From /usr/local/lib/python3.6/dist-packages/keras/backend/tensorflow_backend.py:190: The name tf.get_default_session is deprecated. Please use tf.compat.v1.get_default_session instead.\n",
            "\n",
            "WARNING:tensorflow:From /usr/local/lib/python3.6/dist-packages/keras/backend/tensorflow_backend.py:197: The name tf.ConfigProto is deprecated. Please use tf.compat.v1.ConfigProto instead.\n",
            "\n",
            "WARNING:tensorflow:From /usr/local/lib/python3.6/dist-packages/keras/backend/tensorflow_backend.py:203: The name tf.Session is deprecated. Please use tf.compat.v1.Session instead.\n",
            "\n",
            "WARNING:tensorflow:From /usr/local/lib/python3.6/dist-packages/keras/backend/tensorflow_backend.py:207: The name tf.global_variables is deprecated. Please use tf.compat.v1.global_variables instead.\n",
            "\n",
            "WARNING:tensorflow:From /usr/local/lib/python3.6/dist-packages/keras/backend/tensorflow_backend.py:216: The name tf.is_variable_initialized is deprecated. Please use tf.compat.v1.is_variable_initialized instead.\n",
            "\n",
            "WARNING:tensorflow:From /usr/local/lib/python3.6/dist-packages/keras/backend/tensorflow_backend.py:223: The name tf.variables_initializer is deprecated. Please use tf.compat.v1.variables_initializer instead.\n",
            "\n",
            "WARNING:tensorflow:From /usr/local/lib/python3.6/dist-packages/keras/backend/tensorflow_backend.py:2041: The name tf.nn.fused_batch_norm is deprecated. Please use tf.compat.v1.nn.fused_batch_norm instead.\n",
            "\n",
            "WARNING:tensorflow:From /usr/local/lib/python3.6/dist-packages/keras/backend/tensorflow_backend.py:148: The name tf.placeholder_with_default is deprecated. Please use tf.compat.v1.placeholder_with_default instead.\n",
            "\n",
            "Tensor(\"activation_1/Relu:0\", shape=(?, 224, 224, 32), dtype=float32)\n",
            "Tensor(\"activation_2/Relu:0\", shape=(?, 224, 224, 32), dtype=float32)\n",
            "Tensor(\"activation_3/Relu:0\", shape=(?, 224, 224, 32), dtype=float32)\n"
          ],
          "name": "stdout"
        }
      ]
    },
    {
      "cell_type": "markdown",
      "metadata": {
        "colab_type": "text",
        "id": "UYD4kS0BJbao"
      },
      "source": [
        "## 嘗試導入Inception Block到 Vgg_Inception中"
      ]
    },
    {
      "cell_type": "code",
      "metadata": {
        "colab_type": "code",
        "id": "FEe8WW2qJbap",
        "colab": {
          "base_uri": "https://localhost:8080/",
          "height": 717
        },
        "outputId": "370db5dc-bcf6-4ef4-dd48-929cd084dc14"
      },
      "source": [
        "def VGG16_ResNet_Inception(include_top=True,input_tensor=None, input_shape=(224,224,1),\n",
        "          pooling='max',classes=1000):\n",
        " \n",
        "    img_input = Input(shape=input_shape)\n",
        "    \n",
        "  # Block 1\n",
        "    x = Conv2d_bn(img_input,64, (3, 3), activation='relu', padding='same', name='block1_conv1')\n",
        "    x = Conv2d_bn(x,64, (3, 3), activation='relu', padding='same', name='block1_conv2')\n",
        "    x = MaxPooling2D((2, 2), strides=(2, 2), name='block1_pool')(x)\n",
        "\n",
        "  # Block 2\n",
        "    x = Conv2d_bn(x,128, (3, 3), activation='relu', padding='same', name='block2_conv1')\n",
        "    x = Conv2d_bn(x,128, (3, 3), activation='relu', padding='same', name='block2_conv2')\n",
        "    x = MaxPooling2D((2, 2), strides=(2, 2), name='block2_pool')(x)\n",
        "\n",
        "  # Block 3\n",
        "    x = inception_resnet_block(img_input, 0.1, 'Incpetion_Block-A', activation='relu')\n",
        "    x = inception_resnet_block(img_input, 0.1, 'Incpetion_Block-B', activation='relu')\n",
        "    x = inception_resnet_block(img_input, 0.1, 'Incpetion_Block-C', activation='relu')\n",
        "    x = MaxPooling2D((2, 2), strides=(2, 2), name='block3_pool')(x)\n",
        "\n",
        "  # Block 4\n",
        "    x = Conv2d_bn(x,512, (3, 3), activation='relu', padding='same', name='block4_conv1')\n",
        "    x = Conv2d_bn(x,512, (3, 3), activation='relu', padding='same', name='block4_conv2')\n",
        "    x = Conv2d_bn(x,512, (3, 3), activation='relu', padding='same', name='block4_conv3')\n",
        "    x = MaxPooling2D((2, 2), strides=(2, 2), name='block4_pool')(x)\n",
        "\n",
        "  # Block 5 \n",
        "    x = inception_resnet_block(img_input, 0.1, 'Incpetion_Block-A', activation='relu')\n",
        "    x = inception_resnet_block(img_input, 0.1, 'Incpetion_Block-B', activation='relu')\n",
        "    x = inception_resnet_block(img_input, 0.1, 'Incpetion_Block-C', activation='relu')\n",
        "    x = MaxPooling2D((2, 2), strides=(2, 2), name='block5_pool')(x)\n",
        "\n",
        "    if include_top:\n",
        "        # Classification block\n",
        "        x = Flatten(name='flatten')(x)\n",
        "        x = Dense(4096, activation='relu', name='fc1')(x)\n",
        "        x = Dense(4096, activation='relu', name='fc2')(x)\n",
        "        x = Dense(classes, activation='softmax', name='predictions')(x)\n",
        "    else:\n",
        "       #可以提醒學員為什麼要加avg或是max\n",
        "        if pooling == 'avg':\n",
        "            x = GlobalAveragePooling2D()(x)\n",
        "        elif pooling == 'max':\n",
        "            x = GlobalMaxPooling2D()(x)\n",
        "\n",
        "    inputs = img_input\n",
        "\n",
        "# Create model.\n",
        "    model = Model(inputs, x, name='VGG16_ResNet_Inception')\n",
        "    return model\n",
        "    \n",
        "\n",
        "model = VGG16_ResNet_Inception(include_top=False)\n",
        "model.summary()"
      ],
      "execution_count": 9,
      "outputs": [
        {
          "output_type": "stream",
          "text": [
            "WARNING:tensorflow:From /usr/local/lib/python3.6/dist-packages/keras/backend/tensorflow_backend.py:4267: The name tf.nn.max_pool is deprecated. Please use tf.nn.max_pool2d instead.\n",
            "\n",
            "Model: \"VGG16_ResNet_Inception\"\n",
            "__________________________________________________________________________________________________\n",
            "Layer (type)                    Output Shape         Param #     Connected to                     \n",
            "==================================================================================================\n",
            "input_2 (InputLayer)            (None, 224, 224, 1)  0                                            \n",
            "__________________________________________________________________________________________________\n",
            "Incpetion_Block-C2a_0_conv (Con (None, 224, 224, 192 192         input_2[0][0]                    \n",
            "__________________________________________________________________________________________________\n",
            "Incpetion_Block-C2b_2_conv (Con (None, 224, 224, 192 576         input_2[0][0]                    \n",
            "__________________________________________________________________________________________________\n",
            "Incpetion_Block-C2a_0_bn (Batch (None, 224, 224, 192 576         Incpetion_Block-C2a_0_conv[0][0] \n",
            "__________________________________________________________________________________________________\n",
            "Incpetion_Block-C2b_2_bn (Batch (None, 224, 224, 192 576         Incpetion_Block-C2b_2_conv[0][0] \n",
            "__________________________________________________________________________________________________\n",
            "Incpetion_Block-C2a_0_act (Acti (None, 224, 224, 192 0           Incpetion_Block-C2a_0_bn[0][0]   \n",
            "__________________________________________________________________________________________________\n",
            "Incpetion_Block-C2b_2_act (Acti (None, 224, 224, 192 0           Incpetion_Block-C2b_2_bn[0][0]   \n",
            "__________________________________________________________________________________________________\n",
            "concatenate_9 (Concatenate)     (None, 224, 224, 384 0           Incpetion_Block-C2a_0_act[0][0]  \n",
            "                                                                 Incpetion_Block-C2b_2_act[0][0]  \n",
            "__________________________________________________________________________________________________\n",
            "conv2d_9 (Conv2D)               (None, 224, 224, 1)  384         concatenate_9[0][0]              \n",
            "__________________________________________________________________________________________________\n",
            "batch_normalization_9 (BatchNor (None, 224, 224, 1)  3           conv2d_9[0][0]                   \n",
            "__________________________________________________________________________________________________\n",
            "lambda_9 (Lambda)               (None, 224, 224, 1)  0           input_2[0][0]                    \n",
            "                                                                 batch_normalization_9[0][0]      \n",
            "__________________________________________________________________________________________________\n",
            "activation_9 (Activation)       (None, 224, 224, 1)  0           lambda_9[0][0]                   \n",
            "__________________________________________________________________________________________________\n",
            "block5_pool (MaxPooling2D)      (None, 112, 112, 1)  0           activation_9[0][0]               \n",
            "__________________________________________________________________________________________________\n",
            "global_max_pooling2d_1 (GlobalM (None, 1)            0           block5_pool[0][0]                \n",
            "==================================================================================================\n",
            "Total params: 2,307\n",
            "Trainable params: 1,537\n",
            "Non-trainable params: 770\n",
            "__________________________________________________________________________________________________\n"
          ],
          "name": "stdout"
        }
      ]
    }
  ]
}